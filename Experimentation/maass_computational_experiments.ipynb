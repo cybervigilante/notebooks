{
 "cells": [
  {
   "cell_type": "markdown",
   "metadata": {},
   "source": [
    "# Computational Experiments on Maass Forms"
   ]
  },
  {
   "cell_type": "code",
   "execution_count": 1,
   "metadata": {},
   "outputs": [],
   "source": [
    "T = matrix([[1, 1], [0, 1]])\n",
    "S = matrix([[0, -1], [1, 0]])\n",
    "Id = matrix([[1, 0], [0, 1]])\n",
    "\n",
    "def act(gamma, z):\n",
    "    \"\"\"\n",
    "    Computes the action of matrix gamma on point z\n",
    "    \"\"\"\n",
    "    a, b = gamma[0]\n",
    "    c, d = gamma[1]\n",
    "    return (a*z + b)/ (c*z + d)\n",
    "\n",
    "def is_in_fund_domain(z):\n",
    "    \"\"\"\n",
    "    True if z is in fundamental domain, False otherwise.\n",
    "    \"\"\"\n",
    "    x = z.real()\n",
    "    if x < -1/2 or x > 1/2:\n",
    "        return False\n",
    "    if z.norm() < 1:\n",
    "        return False\n",
    "    return True\n",
    "\n",
    "\n",
    "def pullback(z):\n",
    "    \"\"\"\n",
    "    Returns matrix gamma, point z^*, where gamma z = z^* and z^* is in the fundamental domain\n",
    "    \"\"\"\n",
    "    gamma = Id\n",
    "    while not is_in_fund_domain(z):\n",
    "        x, y = z.real(), z.imag()\n",
    "        xshift = -floor(x + .5)\n",
    "        gamma = T**xshift * gamma\n",
    "        z = x + xshift + i*y\n",
    "        if z.norm() < 1:\n",
    "            z = act(S, z)\n",
    "            gamma = S * gamma\n",
    "    return gamma, z"
   ]
  },
  {
   "cell_type": "code",
   "execution_count": 2,
   "metadata": {},
   "outputs": [
    {
     "data": {
      "text/plain": [
       "(\n",
       "[-2  7]                    \n",
       "[ 1 -4], 2.00000000000000*I\n",
       ")"
      ]
     },
     "execution_count": 2,
     "metadata": {},
     "output_type": "execute_result"
    }
   ],
   "source": [
    "pullback(CC(3.75 + .25*I))"
   ]
  },
  {
   "cell_type": "code",
   "execution_count": 3,
   "metadata": {},
   "outputs": [
    {
     "data": {
      "text/plain": [
       "(\n",
       "[-2  7]                                               \n",
       "[ 1 -4], -4.440892098500626e-16 + 1.9999999999999996*I\n",
       ")"
      ]
     },
     "execution_count": 3,
     "metadata": {},
     "output_type": "execute_result"
    }
   ],
   "source": [
    "pullback(CDF(3.75 + .25*I))"
   ]
  },
  {
   "cell_type": "code",
   "execution_count": 4,
   "metadata": {},
   "outputs": [
    {
     "data": {
      "text/plain": [
       "0.0401564311281942"
      ]
     },
     "execution_count": 4,
     "metadata": {},
     "output_type": "execute_result"
    }
   ],
   "source": [
    "bessel_K(CC(1.0), CC(3.0))"
   ]
  },
  {
   "cell_type": "code",
   "execution_count": 5,
   "metadata": {},
   "outputs": [
    {
     "data": {
      "text/plain": [
       "0.040156431128194184"
      ]
     },
     "execution_count": 5,
     "metadata": {},
     "output_type": "execute_result"
    }
   ],
   "source": [
    "bessel_K(CDF(1.0), CDF(3.0))"
   ]
  },
  {
   "cell_type": "code",
   "execution_count": 6,
   "metadata": {},
   "outputs": [],
   "source": [
    "def kappa(r, u):\n",
    "    return (exp(CC(pi) * CC(r) / 2) * bessel_K(CC(i*r), CC(u)))\n",
    "#def kappa(r, u):\n",
    "#    return bessel_K(CDF(i*r), CDF(u))"
   ]
  },
  {
   "cell_type": "code",
   "execution_count": 7,
   "metadata": {},
   "outputs": [],
   "source": [
    "def make_zj_list(Y, Q=50):\n",
    "    \"\"\"\n",
    "    Returns list of z_j = x_j + iY\n",
    "    \"\"\"\n",
    "    ret = []\n",
    "    for j in range(1-Q, Q+1):\n",
    "        ret.append((1/(2*Q)*(j - 0.5) + i*Y))\n",
    "    return ret\n",
    "\n",
    "def make_zjstar_list(zjlist):\n",
    "    \"\"\"\n",
    "    Returns list of z_j^* in same order as zjlist\n",
    "    \"\"\"\n",
    "    return list(map(lambda zj: pullback(zj)[1], zjlist))"
   ]
  },
  {
   "cell_type": "code",
   "execution_count": 8,
   "metadata": {},
   "outputs": [
    {
     "name": "stdout",
     "output_type": "stream",
     "text": [
      "-0.437500000000000 + 0.500000000000000*I\n",
      "-0.312500000000000 + 0.500000000000000*I\n",
      "-0.187500000000000 + 0.500000000000000*I\n",
      "-0.0625000000000000 + 0.500000000000000*I\n",
      "0.0625000000000000 + 0.500000000000000*I\n",
      "0.187500000000000 + 0.500000000000000*I\n",
      "0.312500000000000 + 0.500000000000000*I\n",
      "0.437500000000000 + 0.500000000000000*I\n"
     ]
    }
   ],
   "source": [
    "test_zj_list = make_zj_list(0.5, Q=4)\n",
    "for elem in test_zj_list:\n",
    "    print(elem)"
   ]
  },
  {
   "cell_type": "code",
   "execution_count": 9,
   "metadata": {},
   "outputs": [
    {
     "name": "stdout",
     "output_type": "stream",
     "text": [
      "-0.00884955752212391 + 1.13274336283186*I\n",
      "-0.101123595505618 + 1.43820224719101*I\n",
      "-0.342465753424658 + 1.75342465753425*I\n",
      "0.246153846153846 + 1.96923076923077*I\n",
      "-0.246153846153846 + 1.96923076923077*I\n",
      "0.342465753424658 + 1.75342465753425*I\n",
      "0.101123595505618 + 1.43820224719101*I\n",
      "0.00884955752212391 + 1.13274336283186*I\n"
     ]
    }
   ],
   "source": [
    "test_zjstar_list = make_zjstar_list(test_zj_list)\n",
    "for elem in test_zjstar_list:\n",
    "    print(elem)"
   ]
  },
  {
   "cell_type": "code",
   "execution_count": 10,
   "metadata": {},
   "outputs": [
    {
     "name": "stdout",
     "output_type": "stream",
     "text": [
      "Passed.\n"
     ]
    }
   ],
   "source": [
    "def perform_sanity_check_zjstar(zjlist, zjstarlist):\n",
    "    for zj, zjstar in zip(zjlist, zjstarlist):\n",
    "        mat, _ = pullback(zj)\n",
    "        assert (act(mat, CC(zj)) - zjstar).norm() < 0.00000001\n",
    "    print(\"Passed.\")\n",
    "perform_sanity_check_zjstar(test_zj_list, test_zjstar_list)"
   ]
  },
  {
   "cell_type": "code",
   "execution_count": 11,
   "metadata": {},
   "outputs": [],
   "source": [
    "def V(n, l, zjlist, r, Q, zjstarlist=None):\n",
    "    \"\"\"\n",
    "    Return the constant V(n, l) --- which also depends on zj, r, and Q --- as\n",
    "    defined above.\n",
    "    \"\"\"\n",
    "    if zjstarlist is None:\n",
    "        zjstarlist = make_zjstar_list(zjlist)\n",
    "    ret = CDF(0)\n",
    "    assert len(zjstarlist) == 2*Q\n",
    "    for zj, zjs in zip(zjlist, zjstarlist):\n",
    "        xj = zj.real()\n",
    "        xjs = zjs.real()\n",
    "        yjs = zjs.imag()\n",
    "        ret += (sqrt(yjs)) * kappa(r, 2 * pi * abs(l) * yjs) * (exp(2*pi*i*(l * xjs - n * xj)))\n",
    "    ret = ret / (2*Q)\n",
    "    return CDF(ret)"
   ]
  },
  {
   "cell_type": "markdown",
   "metadata": {},
   "source": [
    "## Large Speedup TODO\n",
    "\n",
    "Essentially all computation time is spent currently computing $V(n, l)$ in order to make the matrix. There are $Q^2$ matrix entries, each formed from a sum of $Q$ values. And right now, I'm computing all $Q^3$ K-Bessel functions. But this is excessive. In fact, there are at most $Q^2$ K-Bessel functions that need to be computed:\n",
    "$$ K_{ir}(2 \\pi \\lvert \\ell \\rvert y_j^*),$$\n",
    "where $1 \\leq \\lvert \\ell \\rvert \\leq Q$ and $j \\in [-Q, Q]$.\n",
    "\n",
    "Rewriting the matrix-generation code to take advantage of this with caching would make it a $Q^2$ operation (assuming that the Bessel functions are where all of the computation time is being spent).\n",
    "\n",
    "Section 3.4 of [this paper](http://www2.math.uu.se/~astrombe/papers/kbessel.pdf) gives a further improvement for repeated honing in, as only the values of $r$ are changing. Sections 3.2 and 3.3 might give improvements for an individual run --- I don't quite understand the implied algorithms.\n",
    "\n",
    "The matrix-generation code should also be vectorized as much as possible."
   ]
  },
  {
   "cell_type": "code",
   "execution_count": 12,
   "metadata": {},
   "outputs": [
    {
     "data": {
      "text/plain": [
       "-0.0016458022812606853 + 1.6263032587282567e-19*I"
      ]
     },
     "execution_count": 12,
     "metadata": {},
     "output_type": "execute_result"
    }
   ],
   "source": [
    "V(3, 1, test_zj_list, 9.5**.5, 4)"
   ]
  },
  {
   "cell_type": "code",
   "execution_count": 13,
   "metadata": {},
   "outputs": [],
   "source": [
    "import time"
   ]
  },
  {
   "cell_type": "code",
   "execution_count": 14,
   "metadata": {},
   "outputs": [
    {
     "name": "stdout",
     "output_type": "stream",
     "text": [
      "-0.0016458022812606853 + 1.6263032587282567e-19*I\n",
      "Took 0.04369521141052246\n"
     ]
    }
   ],
   "source": [
    "now = time.time()\n",
    "print(V(3, 1, test_zj_list, 9.5**.5, 4))\n",
    "print(\"Took {}\".format(time.time() - now))"
   ]
  },
  {
   "cell_type": "code",
   "execution_count": null,
   "metadata": {},
   "outputs": [],
   "source": []
  },
  {
   "cell_type": "code",
   "execution_count": null,
   "metadata": {},
   "outputs": [],
   "source": []
  },
  {
   "cell_type": "code",
   "execution_count": 15,
   "metadata": {},
   "outputs": [],
   "source": [
    "def make_matrix(size, Y, r, withtime=True):\n",
    "    if withtime:\n",
    "        now = time.time()\n",
    "    Q = size\n",
    "    zjlist = make_zj_list(Y, Q)\n",
    "    zjstarlist = make_zjstar_list(zjlist)\n",
    "    if withtime:\n",
    "        print(\"lists made in {}\".format(time.time() - now))\n",
    "    matrix = []\n",
    "    B = []\n",
    "    for n in range(-Q, Q+1):\n",
    "        if withtime:\n",
    "            now = time.time()\n",
    "        if n == 0:\n",
    "            continue\n",
    "        row = []\n",
    "        for l in range(-Q, Q+1):\n",
    "            if l == 0:\n",
    "                continue\n",
    "            entry = CDF(V(n, l, zjlist, CDF(r), CDF(Q), zjstarlist=zjstarlist))\n",
    "            if n == l:\n",
    "                #entry = entry - sqrt(Y) * bessel_K(i*r, 2 * pi * abs(n) * Y)\n",
    "                entry = entry - CDF(sqrt(Y)) * kappa(r, 2 * pi * abs(n) * Y)\n",
    "            if l != 1:\n",
    "                row.append(entry.n())\n",
    "            else:\n",
    "                B.append([-entry.n()])\n",
    "                #if n == 1:\n",
    "                #    print(V(n, l, zjlist, r, Q, zjstarlist=zjstarlist))\n",
    "                #    print(sqrt(Y) * kappa(r, 2 * pi * abs(n) * Y))\n",
    "        matrix.append(row)\n",
    "        if withtime:\n",
    "            print(\"row {} computed in {} seconds\".format(n, time.time() - now))\n",
    "    return matrix, B"
   ]
  },
  {
   "cell_type": "code",
   "execution_count": 16,
   "metadata": {},
   "outputs": [
    {
     "name": "stdout",
     "output_type": "stream",
     "text": [
      "lists made in 0.030083179473876953\n",
      "row -8 computed in 0.6715025901794434 seconds\n",
      "row -7 computed in 0.8078534603118896 seconds\n",
      "row -6 computed in 0.9051103591918945 seconds\n",
      "row -5 computed in 0.6376907825469971 seconds\n",
      "row -4 computed in 0.6817789077758789 seconds\n",
      "row -3 computed in 0.678154468536377 seconds\n",
      "row -2 computed in 0.6640219688415527 seconds\n",
      "row -1 computed in 0.6612107753753662 seconds\n",
      "row 1 computed in 0.6689596176147461 seconds\n",
      "row 2 computed in 0.8570430278778076 seconds\n",
      "row 3 computed in 0.9631009101867676 seconds\n",
      "row 4 computed in 0.7542071342468262 seconds\n",
      "row 5 computed in 0.7352504730224609 seconds\n",
      "row 6 computed in 0.7185895442962646 seconds\n",
      "row 7 computed in 0.7416501045227051 seconds\n",
      "row 8 computed in 0.7609500885009766 seconds\n",
      "Done in 11.938772678375244\n"
     ]
    }
   ],
   "source": [
    "Q = 8\n",
    "Y = 0.28\n",
    "r = 9.53369526135\n",
    "now = time.time()\n",
    "#testmat, testB = make_matrix(20, 0.5, 3)\n",
    "testmat, testB = make_matrix(Q, Y, r)\n",
    "print(\"Done in {}\".format(time.time() - now))"
   ]
  },
  {
   "cell_type": "markdown",
   "metadata": {},
   "source": [
    "## Contents of tiny cython file\n",
    "\n",
    "```python\n",
    "import sage.libs.mpmath.all as mpmath\n",
    "\n",
    "mpmath_ctx = mpmath.fp\n",
    "\n",
    "\n",
    "def cykappa(r, u):\n",
    "    return mpmath_ctx.besselk(1j*r, u)\n",
    "\n",
    "def cykappa_with_mult(r, u):\n",
    "    pi = mpmath_ctx.pi\n",
    "    cdef double exp_Pih_R=mpmath_ctx.exp(pi * r / 2.)\n",
    "    return mpmath_ctx.besselk(1j*r, u) * exp_Pih_R\n",
    "\n",
    "def cyV(n, l, r, Q, zjlist, zjstarlist):\n",
    "    pi = mpmath_ctx.pi\n",
    "    cdef double exp_Pih_R=mpmath_ctx.exp(pi * r / 2.)\n",
    "    cdef double complex ret = 0\n",
    "    for zj, zjs in zip(zjlist, zjstarlist):\n",
    "        xj = zj.real()\n",
    "        xjs = zjs.real()\n",
    "        yjs = zjs.imag()\n",
    "        ret += mpmath_ctx.sqrt(yjs) * exp_Pih_R * cykappa(r, 2*pi*abs(l)*yjs) \\\n",
    "               * mpmath_ctx.exp(2*pi*1j*(l * xjs - n * xj))\n",
    "    ret = ret / (2*Q)\n",
    "    return ret\n",
    "```"
   ]
  },
  {
   "cell_type": "code",
   "execution_count": 17,
   "metadata": {},
   "outputs": [
    {
     "name": "stderr",
     "output_type": "stream",
     "text": [
      "Compiling ./maass-cython.spyx...\n"
     ]
    }
   ],
   "source": [
    "load(\"maass-cython.spyx\")"
   ]
  },
  {
   "cell_type": "code",
   "execution_count": 18,
   "metadata": {},
   "outputs": [
    {
     "data": {
      "text/plain": [
       "(0.06333777981976761-0.12791312356062806j)"
      ]
     },
     "execution_count": 18,
     "metadata": {},
     "output_type": "execute_result"
    }
   ],
   "source": [
    "cykappa_with_mult(1, 3+i)"
   ]
  },
  {
   "cell_type": "code",
   "execution_count": 19,
   "metadata": {},
   "outputs": [
    {
     "data": {
      "text/plain": [
       "0.0633377798197707 - 0.127913123560625*I"
      ]
     },
     "execution_count": 19,
     "metadata": {},
     "output_type": "execute_result"
    }
   ],
   "source": [
    "kappa(1, 3+i)"
   ]
  },
  {
   "cell_type": "code",
   "execution_count": 20,
   "metadata": {},
   "outputs": [],
   "source": [
    "test_zj_starlist = make_zjstar_list(test_zj_list)"
   ]
  },
  {
   "cell_type": "code",
   "execution_count": 21,
   "metadata": {},
   "outputs": [
    {
     "data": {
      "text/plain": [
       "(-0.0016458022789573614+0j)"
      ]
     },
     "execution_count": 21,
     "metadata": {},
     "output_type": "execute_result"
    }
   ],
   "source": [
    "cyV(3, 1, 9.5**.5, 4, test_zj_list, test_zj_starlist)"
   ]
  },
  {
   "cell_type": "code",
   "execution_count": 22,
   "metadata": {},
   "outputs": [
    {
     "data": {
      "text/plain": [
       "-0.0016458022812606853 + 1.6263032587282567e-19*I"
      ]
     },
     "execution_count": 22,
     "metadata": {},
     "output_type": "execute_result"
    }
   ],
   "source": [
    "V(3, 1, test_zj_list, 9.5**.5, 4)"
   ]
  },
  {
   "cell_type": "code",
   "execution_count": 23,
   "metadata": {},
   "outputs": [
    {
     "name": "stdout",
     "output_type": "stream",
     "text": [
      "CPU times: user 37 ms, sys: 4.03 ms, total: 41 ms\n",
      "Wall time: 40.1 ms\n"
     ]
    },
    {
     "data": {
      "text/plain": [
       "-0.0016458022812606853 + 1.6263032587282567e-19*I"
      ]
     },
     "execution_count": 23,
     "metadata": {},
     "output_type": "execute_result"
    }
   ],
   "source": [
    "%time V(3, 1, test_zj_list, 9.5**.5, 4)"
   ]
  },
  {
   "cell_type": "code",
   "execution_count": 24,
   "metadata": {},
   "outputs": [
    {
     "name": "stdout",
     "output_type": "stream",
     "text": [
      "CPU times: user 3.11 ms, sys: 0 ns, total: 3.11 ms\n",
      "Wall time: 3.12 ms\n"
     ]
    },
    {
     "data": {
      "text/plain": [
       "(-0.0016458022789573614+0j)"
      ]
     },
     "execution_count": 24,
     "metadata": {},
     "output_type": "execute_result"
    }
   ],
   "source": [
    "%time cyV(3, 1, 9.5**.5, 4, test_zj_list, test_zj_starlist)"
   ]
  },
  {
   "cell_type": "code",
   "execution_count": 25,
   "metadata": {},
   "outputs": [],
   "source": [
    "def make_matrix_with_some_cy(size, Y, r, withtime=True):\n",
    "    if withtime:\n",
    "        now = time.time()\n",
    "    Q = size\n",
    "    zjlist = make_zj_list(Y, Q)\n",
    "    zjstarlist = make_zjstar_list(zjlist)\n",
    "    if withtime:\n",
    "        print(\"lists made in {}\".format(time.time() - now))\n",
    "    matrix = []\n",
    "    B = []\n",
    "    for n in range(-Q, Q+1):\n",
    "        if withtime:\n",
    "            now = time.time()\n",
    "        if n == 0:\n",
    "            continue\n",
    "        row = []\n",
    "        for l in range(-Q, Q+1):\n",
    "            if l == 0:\n",
    "                continue\n",
    "            entry = cyV(n, l, CDF(r), CDF(Q), zjlist, zjstarlist=zjstarlist)\n",
    "            if n == l:\n",
    "                #entry = entry - sqrt(Y) * bessel_K(i*r, 2 * pi * abs(n) * Y)\n",
    "                entry = entry - CDF(sqrt(Y)) * cykappa_with_mult(r, 2 * pi * abs(n) * Y)\n",
    "            if l != 1:\n",
    "                row.append(entry)\n",
    "            else:\n",
    "                B.append([-entry])\n",
    "                #if n == 1:\n",
    "                #    print(V(n, l, zjlist, r, Q, zjstarlist=zjstarlist))\n",
    "                #    print(sqrt(Y) * kappa(r, 2 * pi * abs(n) * Y))\n",
    "        matrix.append(row)\n",
    "        if withtime:\n",
    "            print(\"row {} computed in {} seconds\".format(n, time.time() - now))\n",
    "    return matrix, B"
   ]
  },
  {
   "cell_type": "code",
   "execution_count": 26,
   "metadata": {},
   "outputs": [
    {
     "name": "stdout",
     "output_type": "stream",
     "text": [
      "lists made in 0.027595996856689453\n",
      "row -8 computed in 0.06521344184875488 seconds\n",
      "row -7 computed in 0.06373453140258789 seconds\n",
      "row -6 computed in 0.06558513641357422 seconds\n",
      "row -5 computed in 0.06500887870788574 seconds\n",
      "row -4 computed in 0.06371355056762695 seconds\n",
      "row -3 computed in 0.06500244140625 seconds\n",
      "row -2 computed in 0.06799507141113281 seconds\n",
      "row -1 computed in 0.06856870651245117 seconds\n",
      "row 1 computed in 0.06412076950073242 seconds\n",
      "row 2 computed in 0.06606030464172363 seconds\n",
      "row 3 computed in 0.06769704818725586 seconds\n",
      "row 4 computed in 0.06514859199523926 seconds\n",
      "row 5 computed in 0.07109880447387695 seconds\n",
      "row 6 computed in 0.06808328628540039 seconds\n",
      "row 7 computed in 0.07031130790710449 seconds\n",
      "row 8 computed in 0.06719779968261719 seconds\n",
      "Done in 1.0943748950958252\n"
     ]
    }
   ],
   "source": [
    "Q = 8\n",
    "Y = 0.28\n",
    "r = 9.53369526135\n",
    "#testmat, testB = make_matrix(20, 0.5, 3)\n",
    "now = time.time()\n",
    "testmat, testB = make_matrix_with_some_cy(Q, Y, r)\n",
    "print(\"Done in {}\".format(time.time() - now))"
   ]
  },
  {
   "cell_type": "code",
   "execution_count": 43,
   "metadata": {},
   "outputs": [],
   "source": [
    "def solve_for_coeffs(Q, Y, r):\n",
    "    mat, B = make_matrix_with_some_cy(Q, Y, r, withtime=False)\n",
    "    preinversiontime = time.time()\n",
    "    mm = matrix(CC, mat[1:])\n",
    "    Bm = matrix(CC, B[1:])\n",
    "    res = mm.inverse() * Bm\n",
    "    print(\"Inversion done in {}\".format(time.time() - preinversiontime))\n",
    "    indices = [i for i in range(-Q, Q) if i != 0 and i != 1]\n",
    "    resdict = dict()\n",
    "    for index, re in zip(indices, res):\n",
    "        resdict[index] = re[0].real()\n",
    "    return resdict"
   ]
  },
  {
   "cell_type": "code",
   "execution_count": 44,
   "metadata": {},
   "outputs": [
    {
     "name": "stdout",
     "output_type": "stream",
     "text": [
      "Inversion done in 0.004590511322021484\n",
      "CPU times: user 849 ms, sys: 2 µs, total: 849 ms\n",
      "Wall time: 848 ms\n"
     ]
    }
   ],
   "source": [
    "%time coeffdict = solve_for_coeffs(Q, Y, r)"
   ]
  },
  {
   "cell_type": "code",
   "execution_count": 29,
   "metadata": {},
   "outputs": [
    {
     "data": {
      "text/plain": [
       "{-8: 1.87322686737660e9,\n",
       " -7: 0.793986924762749,\n",
       " -6: -0.488696770726782,\n",
       " -5: 0.290607870282857,\n",
       " -4: -0.141331593018057,\n",
       " -3: 0.456186618172060,\n",
       " -2: 1.06833016591228,\n",
       " -1: -0.999999234922817,\n",
       " 2: -1.06833082621984,\n",
       " 3: -0.456187120225734,\n",
       " 4: 0.141331341278230,\n",
       " 5: -0.290607775330800,\n",
       " 6: 0.488696650679484,\n",
       " 7: -0.793986654374832}"
      ]
     },
     "execution_count": 29,
     "metadata": {},
     "output_type": "execute_result"
    }
   ],
   "source": [
    "coeffdict"
   ]
  },
  {
   "cell_type": "code",
   "execution_count": 30,
   "metadata": {},
   "outputs": [],
   "source": [
    "def error_func(r, Y1=0.28, Y2=0.3, Q=8, power=2):\n",
    "    coeffdict1 = solve_for_coeffs(Q, Y1, r)\n",
    "    coeffdict2 = solve_for_coeffs(Q, Y2, r)\n",
    "    return ((coeffdict1[2] - coeffdict2[2])**power\n",
    "            + (coeffdict1[3] - coeffdict2[3]) **power\n",
    "            + (coeffdict1[5] - coeffdict2[5])**power)"
   ]
  },
  {
   "cell_type": "code",
   "execution_count": 31,
   "metadata": {},
   "outputs": [
    {
     "name": "stdout",
     "output_type": "stream",
     "text": [
      "CPU times: user 2.11 s, sys: 0 ns, total: 2.11 s\n",
      "Wall time: 2.11 s\n"
     ]
    },
    {
     "data": {
      "text/plain": [
       "1.75925992991161e-9"
      ]
     },
     "execution_count": 31,
     "metadata": {},
     "output_type": "execute_result"
    }
   ],
   "source": [
    "%time error_func(r)"
   ]
  },
  {
   "cell_type": "code",
   "execution_count": 32,
   "metadata": {},
   "outputs": [],
   "source": [
    "def secant_method_single_iteration(r1, r2, Q=8, power=2):\n",
    "    e1 = error_func(r1, Q=Q, power=power)\n",
    "    e2 = error_func(r2, Q=Q, power=power)\n",
    "    return r1 - e1*(r1 - r2)/(e1 - e2)"
   ]
  },
  {
   "cell_type": "code",
   "execution_count": 33,
   "metadata": {},
   "outputs": [
    {
     "name": "stdout",
     "output_type": "stream",
     "text": [
      "computed r: 9.49727787715483      time: 4.218823432922363\n",
      "computed r: 9.49419505507187      time: 4.247869253158569\n",
      "computed r: 9.54086107605566      time: 4.4445717334747314\n",
      "computed r: 9.58660052314911      time: 4.320803642272949\n",
      "computed r: 9.53628031109461      time: 4.251846790313721\n",
      "computed r: 9.53592508008126      time: 4.254331827163696\n",
      "computed r: 9.53501930080858      time: 4.195786714553833\n",
      "computed r: 9.53458670696755      time: 4.231893539428711\n",
      "computed r: 9.53425301595749      time: 4.3261613845825195\n",
      "computed r: 9.53404871373198      time: 4.3119964599609375\n",
      "Done in 42.80536127090454\n"
     ]
    }
   ],
   "source": [
    "r1 = 9.5\n",
    "r2 = 9.55\n",
    "rlist = [r1, r2]\n",
    "NOW = time.time()\n",
    "now = time.time()\n",
    "for idx in range(10):\n",
    "    rnew = secant_method_single_iteration(rlist[-2], rlist[-1], power=2)\n",
    "    rlist.append(rnew)\n",
    "    print(\"computed r: {}      time: {}\".format(rnew, time.time() - now))\n",
    "    now = time.time()\n",
    "print(\"Done in {}\".format(time.time() - NOW))"
   ]
  },
  {
   "cell_type": "code",
   "execution_count": 34,
   "metadata": {
    "scrolled": true
   },
   "outputs": [
    {
     "name": "stdout",
     "output_type": "stream",
     "text": [
      "computed r: 9.50928635143440      time: 4.294243335723877\n",
      "computed r: 9.51594812823334      time: 4.298494815826416\n",
      "computed r: 9.55109466860222      time: 4.213788747787476\n",
      "computed r: 9.51984614699136      time: 4.181384563446045\n",
      "computed r: 9.52287431424736      time: 4.1736743450164795\n",
      "computed r: 9.53997579418115      time: 4.2550413608551025\n",
      "computed r: 9.53071732375602      time: 4.253326416015625\n",
      "computed r: 9.53286851162266      time: 4.2063398361206055\n",
      "computed r: 9.53380225470783      time: 4.2565460205078125\n",
      "computed r: 9.53369097168154      time: 4.279160499572754\n",
      "Done in 42.413029193878174\n"
     ]
    }
   ],
   "source": [
    "r1 = 9.5\n",
    "r2 = 9.55\n",
    "rlist = [r1, r2]\n",
    "NOW = time.time()\n",
    "now = time.time()\n",
    "for idx in range(10):\n",
    "    rnew = secant_method_single_iteration(rlist[-2], rlist[-1], power=1)\n",
    "    rlist.append(rnew)\n",
    "    print(\"computed r: {}      time: {}\".format(rnew, time.time() - now))\n",
    "    now = time.time()\n",
    "print(\"Done in {}\".format(time.time() - NOW))"
   ]
  },
  {
   "cell_type": "code",
   "execution_count": 35,
   "metadata": {},
   "outputs": [
    {
     "name": "stdout",
     "output_type": "stream",
     "text": [
      "computed r: 9.59387047826304      time: 2.0064644813537598\n",
      "computed r: 9.54812422154999      time: 1.9785053730010986\n",
      "computed r: 9.54664217265963      time: 1.9638545513153076\n",
      "computed r: 9.54102948022800      time: 1.9975497722625732\n",
      "computed r: 9.53857710063801      time: 1.9998939037322998\n",
      "computed r: 9.53663247702626      time: 1.9896209239959717\n",
      "computed r: 9.53543668711281      time: 1.9931871891021729\n",
      "computed r: 9.53461087207954      time: 1.961972951889038\n",
      "computed r: 9.53400807291181      time: 1.9911930561065674\n",
      "computed r: 9.53340983480165      time: 2.0326008796691895\n",
      "Done in 19.916143894195557\n"
     ]
    }
   ],
   "source": [
    "r1 = 9.5\n",
    "r2 = 9.55\n",
    "rlist = [r1, r2]\n",
    "NOW = time.time()\n",
    "now = time.time()\n",
    "for idx in range(10):\n",
    "    rnew = secant_method_single_iteration(rlist[-2], rlist[-1], Q=6)\n",
    "    rlist.append(rnew)\n",
    "    print(\"computed r: {}      time: {}\".format(rnew, time.time() - now))\n",
    "    now = time.time()\n",
    "print(\"Done in {}\".format(time.time() - NOW))"
   ]
  },
  {
   "cell_type": "code",
   "execution_count": 36,
   "metadata": {},
   "outputs": [
    {
     "data": {
      "text/plain": [
       "0.00120185116773810"
      ]
     },
     "execution_count": 36,
     "metadata": {},
     "output_type": "execute_result"
    }
   ],
   "source": [
    "error_func(r, Q=6)"
   ]
  },
  {
   "cell_type": "markdown",
   "metadata": {},
   "source": [
    "I don't quite understand the required bounds on $Q$ at the moment. But surprisingly small values of $Q$ work surprisingly well."
   ]
  },
  {
   "cell_type": "code",
   "execution_count": 37,
   "metadata": {},
   "outputs": [
    {
     "name": "stdout",
     "output_type": "stream",
     "text": [
      "computed r: 11.9729254449747      time: 4.913889408111572\n",
      "computed r: 11.9416688434772      time: 4.794404029846191\n",
      "computed r: 12.1450949287850      time: 4.843990087509155\n",
      "computed r: 12.2230004572527      time: 4.822888374328613\n",
      "computed r: 12.1422415428310      time: 4.694787979125977\n",
      "computed r: 12.1388294940932      time: 4.670587539672852\n",
      "computed r: 12.1645976731964      time: 4.507941246032715\n",
      "computed r: 12.1675402709553      time: 4.502606153488159\n",
      "computed r: 12.1699548228749      time: 4.490269660949707\n",
      "computed r: 12.1711457765677      time: 4.542780876159668\n",
      "computed r: 12.1718966760731      time: 4.654466152191162\n",
      "computed r: 12.1723466561403      time: 4.651961326599121\n",
      "computed r: 12.1726358055689      time: 4.6737775802612305\n",
      "computed r: 12.1728356805994      time: 4.634793758392334\n",
      "computed r: 12.1730106435920      time: 4.5980284214019775\n",
      "computed r: 12.1733847007345      time: 4.576426982879639\n",
      "computed r: 12.1728393846562      time: 4.645724296569824\n",
      "computed r: 12.1723844931719      time: 4.620255947113037\n",
      "computed r: 12.1729589879163      time: 4.661468029022217\n",
      "computed r: 12.1730600058042      time: 4.59580135345459\n",
      "Done in 93.0987777709961\n"
     ]
    }
   ],
   "source": [
    "r1 = 12.0\n",
    "r2 = 12.5\n",
    "rlist = [r1, r2]\n",
    "NOW = time.time()\n",
    "now = time.time()\n",
    "for idx in range(20):\n",
    "    rnew = secant_method_single_iteration(rlist[-2], rlist[-1], Q=8)\n",
    "    rlist.append(rnew)\n",
    "    print(\"computed r: {}      time: {}\".format(rnew, time.time() - now))\n",
    "    now = time.time()\n",
    "print(\"Done in {}\".format(time.time() - NOW))"
   ]
  },
  {
   "cell_type": "code",
   "execution_count": 38,
   "metadata": {},
   "outputs": [
    {
     "name": "stdout",
     "output_type": "stream",
     "text": [
      "computed r: 12.2686437411483      time: 2.2614376544952393\n",
      "computed r: 12.1999812501054      time: 2.2313296794891357\n",
      "computed r: 12.1999625422140      time: 2.287598133087158\n",
      "computed r: 12.1925157918053      time: 2.2645509243011475\n",
      "computed r: 12.1891964621255      time: 2.315746784210205\n",
      "computed r: 12.1855309679207      time: 2.325157880783081\n",
      "computed r: 12.1811475765694      time: 2.2331173419952393\n",
      "computed r: 12.2202435647939      time: 2.2760608196258545\n",
      "computed r: 12.1806731539924      time: 2.2943270206451416\n",
      "computed r: 12.1801597939819      time: 2.242920398712158\n",
      "Done in 22.73322367668152\n"
     ]
    }
   ],
   "source": [
    "r1 = 12.15\n",
    "r2 = 12.2\n",
    "rlist = [r1, r2]\n",
    "NOW = time.time()\n",
    "now = time.time()\n",
    "for idx in range(10):\n",
    "    rnew = secant_method_single_iteration(rlist[-2], rlist[-1], Q=6)\n",
    "    rlist.append(rnew)\n",
    "    print(\"computed r: {}      time: {}\".format(rnew, time.time() - now))\n",
    "    now = time.time()\n",
    "print(\"Done in {}\".format(time.time() - NOW))"
   ]
  },
  {
   "cell_type": "markdown",
   "metadata": {},
   "source": [
    "I am rapidly running into precision errors. Many of these are caused, I think, by the larger-than-necessary K-bessel functions. I'm using $K_{ir}(u)$ instead of Andy's $\\kappa_{ir}(u)$, simply because the libraries I have can compute these quickly. I should try to find a better K-bessel computation."
   ]
  },
  {
   "cell_type": "code",
   "execution_count": 39,
   "metadata": {},
   "outputs": [
    {
     "name": "stdout",
     "output_type": "stream",
     "text": [
      "computed r: 12.1495446393491      time: 8.38785982131958\n",
      "computed r: 12.1490742084784      time: 8.39201021194458\n",
      "computed r: 12.1694270709510      time: 8.429820775985718\n",
      "computed r: 12.1705659328399      time: 8.448359489440918\n",
      "computed r: 12.1716801364197      time: 8.345372438430786\n",
      "computed r: 12.1721914837349      time: 8.46572494506836\n",
      "computed r: 12.1725174310769      time: 8.561171531677246\n",
      "computed r: 12.1727071115659      time: 8.621055841445923\n",
      "computed r: 12.1728235276695      time: 8.472947597503662\n",
      "computed r: 12.1728944076246      time: 8.44180178642273\n",
      "Done in 84.56763291358948\n"
     ]
    }
   ],
   "source": [
    "r1 = 12.15\n",
    "r2 = 12.2\n",
    "rlist = [r1, r2]\n",
    "NOW = time.time()\n",
    "now = time.time()\n",
    "for idx in range(10):\n",
    "    rnew = secant_method_single_iteration(rlist[-2], rlist[-1], Q=10)\n",
    "    rlist.append(rnew)\n",
    "    print(\"computed r: {}      time: {}\".format(rnew, time.time() - now))\n",
    "    now = time.time()\n",
    "print(\"Done in {}\".format(time.time() - NOW))"
   ]
  },
  {
   "cell_type": "markdown",
   "metadata": {},
   "source": [
    "There are apparently precision problems; see the following computation. $Q = 20$ is much higher, but the actual convergence is not any faster."
   ]
  },
  {
   "cell_type": "code",
   "execution_count": 40,
   "metadata": {},
   "outputs": [
    {
     "name": "stdout",
     "output_type": "stream",
     "text": [
      "computed r: 12.1013321704435      time: 54.434868574142456\n",
      "computed r: 12.2206422540283      time: 51.76845192909241\n",
      "computed r: 10.8987101117853      time: 52.83650493621826\n",
      "computed r: 12.2228958502830      time: 52.07058835029602\n",
      "computed r: 12.2257154533566      time: 50.5456326007843\n",
      "computed r: 12.2147250575029      time: 51.26259922981262\n",
      "computed r: 12.2089048844324      time: 52.52742004394531\n",
      "computed r: 12.2000916828450      time: 52.26845932006836\n",
      "computed r: 12.1927803450194      time: 51.81403970718384\n",
      "computed r: 12.1863892009106      time: 50.97339653968811\n",
      "Done in 520.5033602714539\n"
     ]
    }
   ],
   "source": [
    "r1 = 12.15\n",
    "r2 = 12.2\n",
    "rlist = [r1, r2]\n",
    "NOW = time.time()\n",
    "now = time.time()\n",
    "for idx in range(10):\n",
    "    rnew = secant_method_single_iteration(rlist[-2], rlist[-1], Q=20)\n",
    "    rlist.append(rnew)\n",
    "    print(\"computed r: {}      time: {}\".format(rnew, time.time() - now))\n",
    "    now = time.time()\n",
    "print(\"Done in {}\".format(time.time() - NOW))"
   ]
  },
  {
   "cell_type": "markdown",
   "metadata": {},
   "source": [
    "Ah, or maybe everything is improved if we use the power 1 in the error function, instead of the power 2. I had thought finding a minimum would be superior to finding a zero, but not with the secant method setup I suppose."
   ]
  },
  {
   "cell_type": "code",
   "execution_count": 41,
   "metadata": {},
   "outputs": [
    {
     "name": "stdout",
     "output_type": "stream",
     "text": [
      "computed r: 12.1741257896385      time: 50.750403881073\n",
      "computed r: 12.1729719029430      time: 45.4972448348999\n",
      "computed r: 12.1730084069161      time: 43.65937519073486\n",
      "computed r: 12.1730083260559      time: 41.755942583084106\n",
      "computed r: 12.1730083253282      time: 41.49747371673584\n",
      "computed r: 12.1730083266425      time: 41.39926767349243\n",
      "computed r: 12.1730083344389      time: 42.43319535255432\n",
      "computed r: 12.1730083253559      time: 41.70858097076416\n",
      "computed r: 12.1730083261962      time: 41.388752698898315\n",
      "computed r: 12.1730083258166      time: 41.44952416419983\n",
      "Done in 431.5410497188568\n"
     ]
    }
   ],
   "source": [
    "r1 = 12.15\n",
    "r2 = 12.2\n",
    "rlist = [r1, r2]\n",
    "NOW = time.time()\n",
    "now = time.time()\n",
    "for idx in range(10):\n",
    "    rnew = secant_method_single_iteration(rlist[-2], rlist[-1], Q=20, power=1)\n",
    "    rlist.append(rnew)\n",
    "    print(\"computed r: {}      time: {}\".format(rnew, time.time() - now))\n",
    "    now = time.time()\n",
    "print(\"Done in {}\".format(time.time() - NOW))"
   ]
  },
  {
   "cell_type": "code",
   "execution_count": null,
   "metadata": {},
   "outputs": [],
   "source": []
  }
 ],
 "metadata": {
  "kernelspec": {
   "display_name": "SageMath 8.9",
   "language": "sage",
   "name": "sagemath"
  },
  "language_info": {
   "codemirror_mode": {
    "name": "ipython",
    "version": 3
   },
   "file_extension": ".py",
   "mimetype": "text/x-python",
   "name": "python",
   "nbconvert_exporter": "python",
   "pygments_lexer": "ipython3",
   "version": "3.7.3"
  }
 },
 "nbformat": 4,
 "nbformat_minor": 2
}
