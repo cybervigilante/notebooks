{
 "cells": [
  {
   "cell_type": "code",
   "execution_count": 5,
   "metadata": {
    "collapsed": true
   },
   "outputs": [],
   "source": [
    "%matplotlib inline\n",
    "import matplotlib as mpl\n",
    "import matplotlib.pyplot as plt\n",
    "import numpy as np\n",
    "import math"
   ]
  },
  {
   "cell_type": "code",
   "execution_count": 15,
   "metadata": {
    "collapsed": true
   },
   "outputs": [],
   "source": [
    "\n",
    "def make_one_plot(fn=1, xmin=-1, xmax=1, ymin=-1, ymax=1, figname=\"plot\", clist=None):\n",
    "    global counter\n",
    "    savename = figname + str(counter) + \".pdf\"\n",
    "    counter = counter + 1\n",
    "    FIGSIZEX = 3\n",
    "    FIGSIZEY = 3\n",
    "\n",
    "    xs = np.linspace(xmin, xmax)\n",
    "    if not clist:\n",
    "        clist = [-1 + x*1./3 for x in range(7)] \n",
    "    for c in clist:\n",
    "        f = lambda x: fn(x, c)\n",
    "        ys = np.array(list(map(f, xs)))\n",
    "        plt.plot(xs, ys, color='k')\n",
    "    \n",
    "    axes = plt.gca()\n",
    "    axes.spines['top'].set_visible(False)\n",
    "    axes.spines['right'].set_visible(False)\n",
    "    #axes.spines['left'].set_position('zero')\n",
    "    #axes.spines['bottom'].set_position('zero')\n",
    "    #xticks = [-10 + .5*x for x in range(41)]\n",
    "    xticks = [-10 + x for x in range(21)]\n",
    "    yticks = [-20 + x for x in range(41)]\n",
    "    plt.xticks(xticks)\n",
    "    plt.yticks(yticks)\n",
    "    plt.xlim([xmin, xmax])\n",
    "    plt.ylim([ymin, ymax])\n",
    "    plt.xlabel(\"x\")\n",
    "    plt.ylabel(\"y\")\n",
    "    axes.grid(True, linestyle='--')\n",
    "    \n",
    "    fig = plt.gcf()\n",
    "    fig.set_size_inches(FIGSIZEX, FIGSIZEY)\n",
    "    fig.savefig(savename, bbox_inches='tight')"
   ]
  },
  {
   "cell_type": "code",
   "execution_count": 3,
   "metadata": {
    "collapsed": true
   },
   "outputs": [],
   "source": [
    "counter = 1"
   ]
  },
  {
   "cell_type": "code",
   "execution_count": 16,
   "metadata": {
    "collapsed": false
   },
   "outputs": [
    {
     "data": {
      "image/png": "[encoded data removed]",
      "text/plain": [
       "<matplotlib.figure.Figure at 0x7f98c2252518>"
      ]
     },
     "metadata": {},
     "output_type": "display_data"
    }
   ],
   "source": [
    "counter = 1\n",
    "def fn(x,c):\n",
    "    return math.sqrt(4 - x**2)\n",
    "make_one_plot(fn, xmin=-2, xmax=2, ymin=-2, ymax=2, figname=\"ex22_20\", clist=[0])"
   ]
  },
  {
   "cell_type": "code",
   "execution_count": 17,
   "metadata": {
    "collapsed": false
   },
   "outputs": [
    {
     "data": {
      "image/png": "[encoded data removed]",
      "text/plain": [
       "<matplotlib.figure.Figure at 0x7f98c228a438>"
      ]
     },
     "metadata": {},
     "output_type": "display_data"
    }
   ],
   "source": [
    "def fn(x,c):\n",
    "    return -math.sqrt(4 - x**2)\n",
    "make_one_plot(fn, xmin=-2, xmax=2, ymin=-2, ymax=2, figname=\"ex22_20\", clist=[0])"
   ]
  },
  {
   "cell_type": "code",
   "execution_count": 23,
   "metadata": {
    "collapsed": false
   },
   "outputs": [
    {
     "data": {
      "image/png": "[encoded data removed]",
      "text/plain": [
       "<matplotlib.figure.Figure at 0x7f98c2e16ba8>"
      ]
     },
     "metadata": {},
     "output_type": "display_data"
    }
   ],
   "source": [
    "counter = 1\n",
    "def fn(x,c):\n",
    "    return math.sqrt(5* math.exp(2*x - 2) - 1)\n",
    "make_one_plot(fn, xmin=0.2, xmax=3, ymin=-0, ymax=10, figname=\"ex22_24\", clist=[0])"
   ]
  },
  {
   "cell_type": "code",
   "execution_count": null,
   "metadata": {
    "collapsed": true
   },
   "outputs": [],
   "source": []
  }
 ],
 "metadata": {
  "kernelspec": {
   "display_name": "Python 3",
   "language": "python",
   "name": "python3"
  },
  "language_info": {
   "codemirror_mode": {
    "name": "ipython",
    "version": 3
   },
   "file_extension": ".py",
   "mimetype": "text/x-python",
   "name": "python",
   "nbconvert_exporter": "python",
   "pygments_lexer": "ipython3",
   "version": "3.5.2"
  }
 },
 "nbformat": 4,
 "nbformat_minor": 0
}
