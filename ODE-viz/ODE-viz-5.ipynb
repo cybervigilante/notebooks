{
 "cells": [
  {
   "cell_type": "code",
   "execution_count": 33,
   "metadata": {
    "collapsed": true
   },
   "outputs": [],
   "source": [
    "%matplotlib inline\n",
    "import matplotlib as mpl\n",
    "import matplotlib.pyplot as plt\n",
    "import numpy as np\n",
    "import math"
   ]
  },
  {
   "cell_type": "code",
   "execution_count": 37,
   "metadata": {
    "collapsed": true
   },
   "outputs": [],
   "source": [
    "def euler_method(f, h=0.1, steps=5, y0=0, t0=0):\n",
    "    # step, t_k, y_k, f(t_k, y_k), h, f*h\n",
    "    data = []\n",
    "    t = t0\n",
    "    y = y0\n",
    "    for step in range(steps+1):\n",
    "        data.append((step, t, y, f(t, y), h, f(t, y)*h))\n",
    "        t = t + h\n",
    "        y = y + f(t,y)*h\n",
    "    return data"
   ]
  },
  {
   "cell_type": "code",
   "execution_count": 11,
   "metadata": {
    "collapsed": true
   },
   "outputs": [],
   "source": [
    "def f(t,y):\n",
    "    return y"
   ]
  },
  {
   "cell_type": "code",
   "execution_count": 30,
   "metadata": {
    "collapsed": true
   },
   "outputs": [],
   "source": [
    "data = euler_method(f, h=0.1, steps=5, y0=1, t0=0)"
   ]
  },
  {
   "cell_type": "code",
   "execution_count": 36,
   "metadata": {
    "collapsed": true
   },
   "outputs": [],
   "source": [
    "def line_tex(tup):\n",
    "    out = \"\"\n",
    "    for d in tup[:-1]:\n",
    "        out += str(d)[:6]\n",
    "        out += \"  &\"\n",
    "    out += str(tup[-1])[:6] + \" \\\\\\\\\"\n",
    "    return out\n",
    "\n",
    "def to_tex(data):\n",
    "    ret = \"\"\"\\\\begin{tabular}{cccccc}\n",
    "$k$ & $t_k$ & $y_k$ & $f(t_k, y_k)$ & $h$ & $f(t_k, y_k)h$ \\\\\\\\\n",
    "\\midrule\n",
    "\"\"\"\n",
    "    for tup in data:\n",
    "        ret += line_tex(tup) + \"\\n\"\n",
    "    ret += \"\\end{tabular}\"\n",
    "    return ret"
   ]
  },
  {
   "cell_type": "code",
   "execution_count": 32,
   "metadata": {
    "collapsed": false
   },
   "outputs": [
    {
     "name": "stdout",
     "output_type": "stream",
     "text": [
      "\begin{table}{cccccc}\n",
      "$k$ & $t_k$ & $y_k$ & $f(t_k, y_k)$ & $h$ & $f(t_k, y_k)h$ \\\\\n",
      "0  &0  &1  &1  &0.1  &0.1 \\\\\n",
      "0  &0.1  &1.1  &1.1  &0.1  &0.1100 \\\\\n",
      "0  &0.2  &1.2100  &1.2100  &0.1  &0.1210 \\\\\n",
      "0  &0.3000  &1.3310  &1.3310  &0.1  &0.1331 \\\\\n",
      "0  &0.4  &1.4641  &1.4641  &0.1  &0.1464 \\\\\n",
      "0  &0.5  &1.6105  &1.6105  &0.1  &0.1610 \\\\\n",
      "\\end{table}\n"
     ]
    }
   ],
   "source": [
    "print(to_tex(data))"
   ]
  },
  {
   "cell_type": "code",
   "execution_count": 38,
   "metadata": {
    "collapsed": false
   },
   "outputs": [
    {
     "name": "stdout",
     "output_type": "stream",
     "text": [
      "\\begin{table}{cccccc}\n",
      "$k$ & $t_k$ & $y_k$ & $f(t_k, y_k)$ & $h$ & $f(t_k, y_k)h$ \\\\\n",
      "\\midrule\n",
      "0  &0  &1  &1  &0.1  &0.1 \\\\\n",
      "1  &0.1  &1.1  &1.1  &0.1  &0.1100 \\\\\n",
      "2  &0.2  &1.2100  &1.2100  &0.1  &0.1210 \\\\\n",
      "3  &0.3000  &1.3310  &1.3310  &0.1  &0.1331 \\\\\n",
      "4  &0.4  &1.4641  &1.4641  &0.1  &0.1464 \\\\\n",
      "5  &0.5  &1.6105  &1.6105  &0.1  &0.1610 \\\\\n",
      "\\end{table}\n"
     ]
    }
   ],
   "source": [
    "def f(t,y):\n",
    "    return y\n",
    "data = euler_method(f, h=0.1, steps=5, y0=1, t0=0)\n",
    "print(to_tex(data))"
   ]
  },
  {
   "cell_type": "code",
   "execution_count": 39,
   "metadata": {
    "collapsed": false
   },
   "outputs": [
    {
     "name": "stdout",
     "output_type": "stream",
     "text": [
      "\\begin{table}{cccccc}\n",
      "$k$ & $t_k$ & $y_k$ & $f(t_k, y_k)$ & $h$ & $f(t_k, y_k)h$ \\\\\n",
      "\\midrule\n",
      "0  &0  &0  &5  &0.1  &0.5 \\\\\n",
      "1  &0.1  &0.5  &4.5  &0.1  &0.45 \\\\\n",
      "2  &0.2  &0.95  &4.05  &0.1  &0.405 \\\\\n",
      "3  &0.3000  &1.355  &3.645  &0.1  &0.3645 \\\\\n",
      "4  &0.4  &1.7195  &3.2805  &0.1  &0.3280 \\\\\n",
      "5  &0.5  &2.0475  &2.9524  &0.1  &0.2952 \\\\\n",
      "\\end{table}\n"
     ]
    }
   ],
   "source": [
    "def f(t,y):\n",
    "    return 5 - y\n",
    "data = euler_method(f, h=0.1, steps=5, y0=0, t0=0)\n",
    "print(to_tex(data))"
   ]
  },
  {
   "cell_type": "code",
   "execution_count": 55,
   "metadata": {
    "collapsed": true
   },
   "outputs": [],
   "source": [
    "# y' = y - t, 0.2, 0.1, 0.05 on 0,1\n",
    "def f(t,y):\n",
    "    return y - t\n",
    "data2 = euler_method(f, h=0.2, steps=5, y0=0, t0=0)\n",
    "data1 = euler_method(f, h=0.1, steps=10, y0=0, t0=0)\n",
    "data5 = euler_method(f, h=0.05, steps=20, y0=0, t0=0)"
   ]
  },
  {
   "cell_type": "code",
   "execution_count": 71,
   "metadata": {
    "collapsed": true
   },
   "outputs": [],
   "source": [
    "xs2 = []\n",
    "ys2 = []\n",
    "for d in data2:\n",
    "    xs2.append(d[1])\n",
    "    ys2.append(d[2])\n",
    "xs1 = []\n",
    "ys1 = []\n",
    "for d in data1:\n",
    "    xs1.append(d[1])\n",
    "    ys1.append(d[2])\n",
    "\n",
    "xs5 = []\n",
    "ys5 = []\n",
    "for d in data5:\n",
    "    xs5.append(d[1])\n",
    "    ys5.append(d[2])\n",
    "\n",
    "def g(t):\n",
    "    return t + 1 - math.exp(t)\n",
    "xs = np.linspace(0, 1)\n",
    "ys = np.array(list(map(g, xs)))\n"
   ]
  },
  {
   "cell_type": "code",
   "execution_count": 76,
   "metadata": {
    "collapsed": false
   },
   "outputs": [
    {
     "data": {
      "image/png": "[encoded data removed]",
      "text/plain": [
       "<matplotlib.figure.Figure at 0x75d28bce98d0>"
      ]
     },
     "metadata": {},
     "output_type": "display_data"
    }
   ],
   "source": [
    "savename = \"6.pdf\"\n",
    "FIGSIZEX = 4\n",
    "FIGSIZEY = 4\n",
    "plt.scatter(xs2, ys2, marker=\"+\", color=\"b\")\n",
    "plt.scatter(xs1, ys1, marker=\"x\", color=\"r\")\n",
    "plt.scatter(xs5, ys5, marker=\".\", color=\"g\")\n",
    "plt.plot(xs, ys, color=\"k\")\n",
    "\n",
    "axes = plt.gca()\n",
    "axes.spines['top'].set_visible(False)\n",
    "axes.spines['right'].set_visible(False)\n",
    "xticks = [0.25*(-10 + x) for x in range(21)]\n",
    "yticks = [0.25*(-20 + x) for x in range(41)]\n",
    "plt.xticks(xticks)\n",
    "plt.yticks(yticks)\n",
    "plt.xlim([-.05, 1.05])\n",
    "plt.ylim([-0.8, 0])\n",
    "plt.xlabel(\"x\")\n",
    "plt.ylabel(\"y\")\n",
    "axes.grid(True, linestyle='--')\n",
    "\n",
    "fig = plt.gcf()\n",
    "fig.set_size_inches(FIGSIZEX, FIGSIZEY)\n",
    "fig.savefig(savename, bbox_inches='tight')"
   ]
  },
  {
   "cell_type": "code",
   "execution_count": 77,
   "metadata": {
    "collapsed": false
   },
   "outputs": [
    {
     "data": {
      "text/plain": [
       "[0, 0.2, 0.4, 0.6000000000000001, 0.8, 1.0]"
      ]
     },
     "execution_count": 77,
     "metadata": {},
     "output_type": "execute_result"
    }
   ],
   "source": [
    "xs2"
   ]
  },
  {
   "cell_type": "code",
   "execution_count": 78,
   "metadata": {
    "collapsed": false
   },
   "outputs": [
    {
     "data": {
      "text/plain": [
       "[0,\n",
       " -0.04000000000000001,\n",
       " -0.12800000000000003,\n",
       " -0.27360000000000007,\n",
       " -0.4883200000000001,\n",
       " -0.7859840000000001]"
      ]
     },
     "execution_count": 78,
     "metadata": {},
     "output_type": "execute_result"
    }
   ],
   "source": [
    "ys2"
   ]
  },
  {
   "cell_type": "code",
   "execution_count": 83,
   "metadata": {
    "collapsed": true
   },
   "outputs": [],
   "source": [
    "# y' = 2y + t e^{2t}, 0.2, 0.1, 0.05 on 0,1\n",
    "def f(t,y):\n",
    "    return 2*y + t * math.exp(2*t)\n",
    "data2 = euler_method(f, h=0.2, steps=5, y0=1, t0=0)\n",
    "data1 = euler_method(f, h=0.1, steps=10, y0=1, t0=0)\n",
    "data5 = euler_method(f, h=0.05, steps=20, y0=1, t0=0)\n",
    "\n",
    "xs2 = []\n",
    "ys2 = []\n",
    "for d in data2:\n",
    "    xs2.append(d[1])\n",
    "    ys2.append(d[2])\n",
    "xs1 = []\n",
    "ys1 = []\n",
    "for d in data1:\n",
    "    xs1.append(d[1])\n",
    "    ys1.append(d[2])\n",
    "\n",
    "xs5 = []\n",
    "ys5 = []\n",
    "for d in data5:\n",
    "    xs5.append(d[1])\n",
    "    ys5.append(d[2])\n",
    "\n",
    "def g(t):\n",
    "    return .5 * t**2 * math.exp(2*t) + math.exp(2*t)\n",
    "xs = np.linspace(0, 1)\n",
    "ys = np.array(list(map(g, xs)))"
   ]
  },
  {
   "cell_type": "code",
   "execution_count": 85,
   "metadata": {
    "collapsed": false
   },
   "outputs": [
    {
     "data": {
      "image/png": "[encoded data removed]",
      "text/plain": [
       "<matplotlib.figure.Figure at 0x75d294758208>"
      ]
     },
     "metadata": {},
     "output_type": "display_data"
    }
   ],
   "source": [
    "savename = \"8.pdf\"\n",
    "FIGSIZEX = 4\n",
    "FIGSIZEY = 4\n",
    "plt.scatter(xs2, ys2, marker=\"+\", color=\"b\")\n",
    "plt.scatter(xs1, ys1, marker=\"x\", color=\"r\")\n",
    "plt.scatter(xs5, ys5, marker=\".\", color=\"g\")\n",
    "plt.plot(xs, ys, color=\"k\")\n",
    "\n",
    "axes = plt.gca()\n",
    "axes.spines['top'].set_visible(False)\n",
    "axes.spines['right'].set_visible(False)\n",
    "xticks = [0.25*(-10 + x) for x in range(21)]\n",
    "yticks = [2*(-20 + x) for x in range(41)]\n",
    "plt.xticks(xticks)\n",
    "plt.yticks(yticks)\n",
    "plt.xlim([-.05, 1.05])\n",
    "plt.ylim([0, 12])\n",
    "plt.xlabel(\"x\")\n",
    "plt.ylabel(\"y\")\n",
    "axes.grid(True, linestyle='--')\n",
    "\n",
    "fig = plt.gcf()\n",
    "fig.set_size_inches(FIGSIZEX, FIGSIZEY)\n",
    "fig.savefig(savename, bbox_inches='tight')"
   ]
  },
  {
   "cell_type": "code",
   "execution_count": 87,
   "metadata": {
    "collapsed": false
   },
   "outputs": [
    {
     "name": "stdout",
     "output_type": "stream",
     "text": [
      "\\begin{table}{cccccc}\n",
      "$k$ & $t_k$ & $y_k$ & $f(t_k, y_k)$ & $h$ & $f(t_k, y_k)h$ \\\\\n",
      "\\midrule\n",
      "0  &0  &1  &36  &0.04  &1.44 \\\\\n",
      "1  &0.04  &2.44  &45.676  &0.04  &1.8270 \\\\\n",
      "2  &0.08  &4.2670  &-13.67  &0.04  &-0.547 \\\\\n",
      "3  &0.12  &3.7200  &12.496  &0.04  &0.4998 \\\\\n",
      "4  &0.16  &4.2199  &-11.13  &0.04  &-0.445 \\\\\n",
      "5  &0.2  &3.7744  &10.216  &0.04  &0.4086 \\\\\n",
      "6  &0.2400  &4.1830  &-9.190  &0.04  &-0.367 \\\\\n",
      "7  &0.28  &3.8154  &8.4489  &0.04  &0.3379 \\\\\n",
      "8  &0.32  &4.1534  &-7.646  &0.04  &-0.305 \\\\\n",
      "9  &0.36  &3.8475  &7.0387  &0.04  &0.2815 \\\\\n",
      "10  &0.3999  &4.1290  &-6.396  &0.04  &-0.255 \\\\\n",
      "11  &0.4399  &3.8732  &5.8921  &0.04  &0.2356 \\\\\n",
      "12  &0.4799  &4.1089  &-5.370  &0.04  &-0.214 \\\\\n",
      "13  &0.5199  &3.8941  &4.9484  &0.04  &0.1979 \\\\\n",
      "14  &0.5599  &4.0920  &-4.519  &0.04  &-0.180 \\\\\n",
      "15  &0.6  &3.9112  &4.1652  &0.04  &0.1666 \\\\\n",
      "16  &0.64  &4.0778  &-3.810  &0.04  &-0.152 \\\\\n",
      "17  &0.68  &3.9254  &3.5115  &0.04  &0.1404 \\\\\n",
      "18  &0.7200  &4.0659  &-3.216  &0.04  &-0.128 \\\\\n",
      "19  &0.7600  &3.9372  &2.9636  &0.04  &0.1185 \\\\\n",
      "20  &0.8000  &4.0558  &-2.716  &0.04  &-0.108 \\\\\n",
      "21  &0.8400  &3.9471  &2.5032  &0.04  &0.1001 \\\\\n",
      "22  &0.8800  &4.0472  &-2.296  &0.04  &-0.091 \\\\\n",
      "23  &0.9200  &3.9554  &2.1156  &0.04  &0.0846 \\\\\n",
      "24  &0.9600  &4.0400  &-1.941  &0.04  &-0.077 \\\\\n",
      "25  &1.0000  &3.9623  &1.7887  &0.04  &0.0715 \\\\\n",
      "26  &1.0400  &4.0339  &-1.642  &0.04  &-0.065 \\\\\n",
      "27  &1.0800  &3.9682  &1.5127  &0.04  &0.0605 \\\\\n",
      "28  &1.1200  &4.0287  &-1.389  &0.04  &-0.055 \\\\\n",
      "29  &1.1600  &3.9731  &1.2796  &0.04  &0.0511 \\\\\n",
      "30  &1.2000  &4.0243  &-1.175  &0.04  &-0.047 \\\\\n",
      "31  &1.2400  &3.9773  &1.0826  &0.04  &0.0433 \\\\\n",
      "32  &1.2800  &4.0206  &-0.994  &0.04  &-0.039 \\\\\n",
      "33  &1.3200  &3.9808  &0.9160  &0.04  &0.0366 \\\\\n",
      "34  &1.3600  &4.0174  &-0.841  &0.04  &-0.033 \\\\\n",
      "35  &1.4000  &3.9837  &0.7751  &0.04  &0.0310 \\\\\n",
      "36  &1.4400  &4.0147  &-0.712  &0.04  &-0.028 \\\\\n",
      "37  &1.4800  &3.9862  &0.6559  &0.04  &0.0262 \\\\\n",
      "38  &1.5200  &4.0125  &-0.603  &0.04  &-0.024 \\\\\n",
      "39  &1.5600  &3.9884  &0.5551  &0.04  &0.0222 \\\\\n",
      "40  &1.6000  &4.0106  &-0.510  &0.04  &-0.020 \\\\\n",
      "41  &1.6400  &3.9901  &0.4698  &0.04  &0.0187 \\\\\n",
      "42  &1.6800  &4.0089  &-0.432  &0.04  &-0.017 \\\\\n",
      "43  &1.7200  &3.9916  &0.3976  &0.04  &0.0159 \\\\\n",
      "44  &1.7600  &4.0076  &-0.365  &0.04  &-0.014 \\\\\n",
      "45  &1.8000  &3.9929  &0.3365  &0.04  &0.0134 \\\\\n",
      "46  &1.8400  &4.0064  &-0.309  &0.04  &-0.012 \\\\\n",
      "47  &1.8800  &3.9940  &0.2848  &0.04  &0.0113 \\\\\n",
      "48  &1.9200  &4.0054  &-0.261  &0.04  &-0.010 \\\\\n",
      "49  &1.9600  &3.9949  &0.2410  &0.04  &0.0096 \\\\\n",
      "50  &2.0000  &4.0046  &-0.221  &0.04  &-0.008 \\\\\n",
      "\\end{table}\n"
     ]
    }
   ],
   "source": [
    "def f(t,y):\n",
    "    return 12*y*(4-y)\n",
    "data = euler_method(f, h=0.04, steps=50, y0=1, t0=0)\n",
    "print(to_tex(data))"
   ]
  },
  {
   "cell_type": "code",
   "execution_count": 88,
   "metadata": {
    "collapsed": true
   },
   "outputs": [],
   "source": [
    "xs2 = []\n",
    "ys2 = []\n",
    "for d in data:\n",
    "    xs2.append(d[1])\n",
    "    ys2.append(d[2])"
   ]
  },
  {
   "cell_type": "code",
   "execution_count": 91,
   "metadata": {
    "collapsed": false
   },
   "outputs": [
    {
     "data": {
      "image/png": "[encoded data removed]",
      "text/plain": [
       "<matplotlib.figure.Figure at 0x75d294665390>"
      ]
     },
     "metadata": {},
     "output_type": "display_data"
    }
   ],
   "source": [
    "savename = \"10.pdf\"\n",
    "FIGSIZEX = 4\n",
    "FIGSIZEY = 4\n",
    "plt.plot(xs2, ys2, marker=\".\", color=\"k\")\n",
    "#plt.scatter(xs1, ys1, marker=\"x\", color=\"r\")\n",
    "#plt.scatter(xs5, ys5, marker=\".\", color=\"g\")\n",
    "#plt.plot(xs, ys, color=\"k\")\n",
    "\n",
    "axes = plt.gca()\n",
    "axes.spines['top'].set_visible(False)\n",
    "axes.spines['right'].set_visible(False)\n",
    "xticks = [0.5*(-10 + x) for x in range(21)]\n",
    "yticks = [1*(-20 + x) for x in range(41)]\n",
    "plt.xticks(xticks)\n",
    "plt.yticks(yticks)\n",
    "plt.xlim([-.05, 2.05])\n",
    "plt.ylim([0, 4.5])\n",
    "plt.xlabel(\"x\")\n",
    "plt.ylabel(\"y\")\n",
    "axes.grid(True, linestyle='--')\n",
    "\n",
    "fig = plt.gcf()\n",
    "fig.set_size_inches(FIGSIZEX, FIGSIZEY)\n",
    "fig.savefig(savename, bbox_inches='tight')"
   ]
  },
  {
   "cell_type": "code",
   "execution_count": 16,
   "metadata": {
    "collapsed": true
   },
   "outputs": [],
   "source": [
    "def euler_method3(f, g, h=0.1, steps=5, x0=0, y0=0, t0=0):\n",
    "    # step, t_k, x_k, y_k, f(t_k, x_k, y_k), g(t_k, x_k, y_k), h, f*h, g*h\n",
    "    data = []\n",
    "    x = x0\n",
    "    t = t0\n",
    "    y = y0\n",
    "    for step in range(steps+1):\n",
    "        datum = (step, t, x, y, f(t, x, y), g(t, x, y), h, f(t, x, y)*h, g(t,x,y)*h)\n",
    "        data.append(datum)\n",
    "        t = t + h\n",
    "        x = x + datum[-2]\n",
    "        y = y + datum[-1]\n",
    "    return data"
   ]
  },
  {
   "cell_type": "code",
   "execution_count": 17,
   "metadata": {
    "collapsed": true
   },
   "outputs": [],
   "source": [
    "def f(t,x,y):\n",
    "    return y\n",
    "def g(t,x,y):\n",
    "    return -x\n",
    "data = euler_method3(f,g,h=0.1, steps=5, x0=1, y0=-1, t0=0)\n",
    "disp = []\n",
    "for d in data:\n",
    "    disp.append((d[0], d[1], d[2], d[3], d[7], d[8]))"
   ]
  },
  {
   "cell_type": "code",
   "execution_count": 18,
   "metadata": {
    "collapsed": true
   },
   "outputs": [],
   "source": [
    "def line_tex(tup):\n",
    "    out = \"\"\n",
    "    for d in tup[:-1]:\n",
    "        out += str(d)[:6]\n",
    "        out += \"  &\"\n",
    "    out += str(tup[-1])[:6] + \" \\\\\\\\\"\n",
    "    return out\n",
    "\n",
    "def to_tex(data):\n",
    "    ret = \"\"\"\\\\begin{tabular}{cccccc}\n",
    "$k$ & $t_k$ & $x_k$ & $y_k$ & $f(t_k, x_k, y_k)h$ & $g(t_k, x_k, y_k)h$ \\\\\\\\\n",
    "\\midrule\n",
    "\"\"\"\n",
    "    for tup in data:\n",
    "        ret += line_tex(tup) + \"\\n\"\n",
    "    ret += \"\\end{tabular}\"\n",
    "    return ret"
   ]
  },
  {
   "cell_type": "code",
   "execution_count": 19,
   "metadata": {
    "collapsed": false
   },
   "outputs": [
    {
     "name": "stdout",
     "output_type": "stream",
     "text": [
      "\\begin{tabular}{cccccc}\n",
      "$k$ & $t_k$ & $x_k$ & $y_k$ & $f(t_k, x_k, y_k)h$ & $g(t_k, x_k, y_k)h$ \\\\\n",
      "\\midrule\n",
      "0  &0  &1  &-1  &-0.1  &-0.1 \\\\\n",
      "1  &0.1  &0.9  &-1.1  &-0.110  &-0.090 \\\\\n",
      "2  &0.2  &0.79  &-1.190  &-0.119  &-0.079 \\\\\n",
      "3  &0.3000  &0.671  &-1.269  &-0.126  &-0.067 \\\\\n",
      "4  &0.4  &0.5441  &-1.336  &-0.133  &-0.054 \\\\\n",
      "5  &0.5  &0.4104  &-1.390  &-0.139  &-0.041 \\\\\n",
      "\\end{tabular}\n"
     ]
    }
   ],
   "source": [
    "print(to_tex(disp))"
   ]
  },
  {
   "cell_type": "code",
   "execution_count": 24,
   "metadata": {
    "collapsed": true
   },
   "outputs": [],
   "source": [
    "def runge_2order(f, h=0.1, t0=0, y0=0, steps=5):\n",
    "    data = []\n",
    "    t = t0\n",
    "    y = y0\n",
    "    for step in range(steps+1):\n",
    "        s1 = f(t,y)\n",
    "        s2 = f(t+h, y+h*s1)\n",
    "        datum = (step, t, y, s1, s2, h, h*(s1+s2)*.5)\n",
    "        data.append(datum)\n",
    "        y = y + h*(s1 + s2)*.5\n",
    "        t = t + h\n",
    "    return data"
   ]
  },
  {
   "cell_type": "code",
   "execution_count": 28,
   "metadata": {
    "collapsed": true
   },
   "outputs": [],
   "source": [
    "def line_tex(tup):\n",
    "    out = \"\"\n",
    "    for d in tup[:-1]:\n",
    "        out += str(d)[:6]\n",
    "        out += \"  &\"\n",
    "    out += str(tup[-1])[:6] + \" \\\\\\\\\"\n",
    "    return out\n",
    "\n",
    "def to_tex(data):\n",
    "    ret = \"\"\"\\\\begin{tabular}{ccccccc}\n",
    "$k$ & $t_k$ & $y_k$ & $s_1$ & $s_2$ & $h$ & $h(s_1+s_2)/2$ \\\\\\\\\n",
    "\\midrule\n",
    "\"\"\"\n",
    "    for tup in data:\n",
    "        ret += line_tex(tup) + \"\\n\"\n",
    "    ret += \"\\end{tabular}\"\n",
    "    return ret"
   ]
  },
  {
   "cell_type": "code",
   "execution_count": 26,
   "metadata": {
    "collapsed": true
   },
   "outputs": [],
   "source": [
    "def f(t,y):\n",
    "    return y\n",
    "data = runge_2order(f, t0=0, y0=1, h=0.1, steps=5)"
   ]
  },
  {
   "cell_type": "code",
   "execution_count": 27,
   "metadata": {
    "collapsed": false
   },
   "outputs": [
    {
     "name": "stdout",
     "output_type": "stream",
     "text": [
      "\\begin{tabular}{cccccc}\n",
      "$k$ & $t_k$ & $y_k$ & $s_1$ & $s_2$ & $h$ & $h(s_1+s_2)/2$ \\\\\n",
      "\\midrule\n",
      "0  &0  &1  &1  &1.1  &0.1  &0.1050 \\\\\n",
      "1  &0.1  &1.105  &1.105  &1.2155  &0.1  &0.1160 \\\\\n",
      "2  &0.2  &1.2210  &1.2210  &1.3431  &0.1  &0.1282 \\\\\n",
      "3  &0.3000  &1.3492  &1.3492  &1.4841  &0.1  &0.1416 \\\\\n",
      "4  &0.4  &1.4909  &1.4909  &1.6399  &0.1  &0.1565 \\\\\n",
      "5  &0.5  &1.6474  &1.6474  &1.8121  &0.1  &0.1729 \\\\\n",
      "\\end{tabular}\n"
     ]
    }
   ],
   "source": [
    "print(to_tex(data))"
   ]
  },
  {
   "cell_type": "code",
   "execution_count": 30,
   "metadata": {
    "collapsed": false
   },
   "outputs": [
    {
     "name": "stdout",
     "output_type": "stream",
     "text": [
      "\\begin{tabular}{ccccccc}\n",
      "$k$ & $t_k$ & $y_k$ & $s_1$ & $s_2$ & $h$ & $h(s_1+s_2)/2$ \\\\\n",
      "\\midrule\n",
      "0  &0  &0  &5  &4.5  &0.1  &0.4750 \\\\\n",
      "1  &0.1  &0.4750  &4.525  &4.0725  &0.1  &0.4298 \\\\\n",
      "2  &0.2  &0.9048  &4.0951  &3.6856  &0.1  &0.3890 \\\\\n",
      "3  &0.3000  &1.2939  &3.7060  &3.3354  &0.1  &0.3520 \\\\\n",
      "4  &0.4  &1.6459  &3.3540  &3.0186  &0.1  &0.3186 \\\\\n",
      "5  &0.5  &1.9646  &3.0353  &2.7318  &0.1  &0.2883 \\\\\n",
      "\\end{tabular}\n"
     ]
    }
   ],
   "source": [
    "def f(t,y):\n",
    "    return 5-y\n",
    "data = runge_2order(f, t0=0, y0=0, h=0.1, steps=5)\n",
    "print(to_tex(data))"
   ]
  },
  {
   "cell_type": "code",
   "execution_count": 34,
   "metadata": {
    "collapsed": true
   },
   "outputs": [],
   "source": [
    "#y' = -2ty^2, y(0)=1, 0.2, 0.1, 0.05 on [0,1]\n",
    "# y' = 2y + t e^{2t}, 0.2, 0.1, 0.05 on 0,1\n",
    "def f(t,y):\n",
    "    return -2*t*y**2\n",
    "data2 = runge_2order(f, h=0.2, steps=5, y0=1, t0=0)\n",
    "data1 = runge_2order(f, h=0.1, steps=10, y0=1, t0=0)\n",
    "data5 = runge_2order(f, h=0.05, steps=20, y0=1, t0=0)\n",
    "\n",
    "xs2 = []\n",
    "ys2 = []\n",
    "for d in data2:\n",
    "    xs2.append(d[1])\n",
    "    ys2.append(d[2])\n",
    "xs1 = []\n",
    "ys1 = []\n",
    "for d in data1:\n",
    "    xs1.append(d[1])\n",
    "    ys1.append(d[2])\n",
    "\n",
    "xs5 = []\n",
    "ys5 = []\n",
    "for d in data5:\n",
    "    xs5.append(d[1])\n",
    "    ys5.append(d[2])\n",
    "\n",
    "def g(t):\n",
    "    return 1/(t**2 + 1)\n",
    "xs = np.linspace(0, 1)\n",
    "ys = np.array(list(map(g, xs)))"
   ]
  },
  {
   "cell_type": "code",
   "execution_count": 38,
   "metadata": {
    "collapsed": false
   },
   "outputs": [
    {
     "data": {
      "image/png": "[encoded data removed]",
      "text/plain": [
       "<matplotlib.figure.Figure at 0x7335ffd01400>"
      ]
     },
     "metadata": {},
     "output_type": "display_data"
    }
   ],
   "source": [
    "savename = \"6_6.pdf\"\n",
    "FIGSIZEX = 4\n",
    "FIGSIZEY = 4\n",
    "plt.scatter(xs2, ys2, marker=\"+\", color=\"b\")\n",
    "plt.scatter(xs1, ys1, marker=\"x\", color=\"r\")\n",
    "plt.scatter(xs5, ys5, marker=\".\", color=\"g\")\n",
    "plt.plot(xs, ys, color=\"k\")\n",
    "\n",
    "axes = plt.gca()\n",
    "axes.spines['top'].set_visible(False)\n",
    "axes.spines['right'].set_visible(False)\n",
    "xticks = [0.25*(-10 + x) for x in range(21)]\n",
    "yticks = [0.25*(-20 + x) for x in range(41)]\n",
    "plt.xticks(xticks)\n",
    "plt.yticks(yticks)\n",
    "plt.xlim([-.05, 1.05])\n",
    "plt.ylim([0.5, 1])\n",
    "plt.xlabel(\"x\")\n",
    "plt.ylabel(\"y\")\n",
    "axes.grid(True, linestyle='--')\n",
    "\n",
    "fig = plt.gcf()\n",
    "fig.set_size_inches(FIGSIZEX, FIGSIZEY)\n",
    "fig.savefig(savename, bbox_inches='tight')"
   ]
  },
  {
   "cell_type": "code",
   "execution_count": 42,
   "metadata": {
    "collapsed": false
   },
   "outputs": [
    {
     "data": {
      "text/plain": [
       "[1,\n",
       " 0.99,\n",
       " 0.96136555443192,\n",
       " 0.9172458073323593,\n",
       " 0.8619543198099594,\n",
       " 0.8000340250544267,\n",
       " 0.7355270186754421,\n",
       " 0.6715870547645136,\n",
       " 0.6103987848313074,\n",
       " 0.5532890885187934,\n",
       " 0.5009185758575371]"
      ]
     },
     "execution_count": 42,
     "metadata": {},
     "output_type": "execute_result"
    }
   ],
   "source": [
    "ys1"
   ]
  },
  {
   "cell_type": "code",
   "execution_count": 43,
   "metadata": {
    "collapsed": false
   },
   "outputs": [
    {
     "data": {
      "text/plain": [
       "[1,\n",
       " 0.96,\n",
       " 0.86029775536128,\n",
       " 0.7350425008089037,\n",
       " 0.6115716703493418,\n",
       " 0.503338255442106]"
      ]
     },
     "execution_count": 43,
     "metadata": {},
     "output_type": "execute_result"
    }
   ],
   "source": [
    "ys2"
   ]
  },
  {
   "cell_type": "code",
   "execution_count": 44,
   "metadata": {
    "collapsed": false
   },
   "outputs": [
    {
     "data": {
      "text/plain": [
       "[1,\n",
       " 0.9975,\n",
       " 0.9900869553070392,\n",
       " 0.9779784155730878,\n",
       " 0.9615192399682526,\n",
       " 0.9411577547131251,\n",
       " 0.9174167488531677,\n",
       " 0.8908626077586689,\n",
       " 0.8620756483796894,\n",
       " 0.8316240629150812,\n",
       " 0.8000430034473954,\n",
       " 0.7678194520757603,\n",
       " 0.7353827705684649,\n",
       " 0.703100290618703,\n",
       " 0.6712770046492447,\n",
       " 0.6401583162459162,\n",
       " 0.6099348547532878,\n",
       " 0.5807484930157808,\n",
       " 0.5526988818140524,\n",
       " 0.5258499937762168,\n",
       " 0.5002363315673811]"
      ]
     },
     "execution_count": 44,
     "metadata": {},
     "output_type": "execute_result"
    }
   ],
   "source": [
    "ys5"
   ]
  },
  {
   "cell_type": "code",
   "execution_count": 45,
   "metadata": {
    "collapsed": true
   },
   "outputs": [],
   "source": [
    "def f(t,y):\n",
    "    return 1.0 * t/y\n",
    "data2 = runge_2order(f, h=0.2, steps=5, y0=1, t0=0)\n",
    "data1 = runge_2order(f, h=0.1, steps=10, y0=1, t0=0)\n",
    "data5 = runge_2order(f, h=0.05, steps=20, y0=1, t0=0)\n",
    "\n",
    "xs2 = []\n",
    "ys2 = []\n",
    "for d in data2:\n",
    "    xs2.append(d[1])\n",
    "    ys2.append(d[2])\n",
    "xs1 = []\n",
    "ys1 = []\n",
    "for d in data1:\n",
    "    xs1.append(d[1])\n",
    "    ys1.append(d[2])\n",
    "\n",
    "xs5 = []\n",
    "ys5 = []\n",
    "for d in data5:\n",
    "    xs5.append(d[1])\n",
    "    ys5.append(d[2])\n",
    "\n",
    "def g(t):\n",
    "    return (t**2 + 1)**.5\n",
    "xs = np.linspace(0, 1)\n",
    "ys = np.array(list(map(g, xs)))"
   ]
  },
  {
   "cell_type": "code",
   "execution_count": 55,
   "metadata": {
    "collapsed": false
   },
   "outputs": [
    {
     "data": {
      "image/png": "[encoded data removed]",
      "text/plain": [
       "<matplotlib.figure.Figure at 0x7335ff95f2e8>"
      ]
     },
     "metadata": {},
     "output_type": "display_data"
    }
   ],
   "source": [
    "savename = \"6_8.pdf\"\n",
    "FIGSIZEX = 4\n",
    "FIGSIZEY = 4\n",
    "plt.scatter(xs2, ys2, marker=\"+\", color=\"b\")\n",
    "plt.scatter(xs1, ys1, marker=\"x\", color=\"r\")\n",
    "plt.scatter(xs5, ys5, marker=\".\", color=\"g\")\n",
    "plt.plot(xs, ys, color=\"k\")\n",
    "\n",
    "axes = plt.gca()\n",
    "axes.spines['top'].set_visible(False)\n",
    "axes.spines['right'].set_visible(False)\n",
    "xticks = [0.25*(-10 + x) for x in range(21)]\n",
    "yticks = [0.25*(-20 + x) for x in range(41)]\n",
    "plt.xticks(xticks)\n",
    "plt.yticks(yticks)\n",
    "plt.xlim([-.05, 1.05])\n",
    "plt.ylim([1, 1.4])\n",
    "plt.xlabel(\"x\")\n",
    "plt.ylabel(\"y\")\n",
    "axes.grid(True, linestyle='--')\n",
    "\n",
    "fig = plt.gcf()\n",
    "fig.set_size_inches(FIGSIZEX, FIGSIZEY)\n",
    "fig.savefig(savename, bbox_inches='tight')"
   ]
  },
  {
   "cell_type": "code",
   "execution_count": 49,
   "metadata": {
    "collapsed": false
   },
   "outputs": [
    {
     "data": {
      "text/plain": [
       "[0, 0.2, 0.4, 0.6000000000000001, 0.8, 1.0]"
      ]
     },
     "execution_count": 49,
     "metadata": {},
     "output_type": "execute_result"
    }
   ],
   "source": [
    "xs2"
   ]
  },
  {
   "cell_type": "code",
   "execution_count": 50,
   "metadata": {
    "collapsed": false
   },
   "outputs": [
    {
     "data": {
      "text/plain": [
       "[1,\n",
       " 1.02,\n",
       " 1.0773716343257036,\n",
       " 1.1665992560704066,\n",
       " 1.2810496043886062,\n",
       " 1.414624823144609]"
      ]
     },
     "execution_count": 50,
     "metadata": {},
     "output_type": "execute_result"
    }
   ],
   "source": [
    "ys2"
   ]
  },
  {
   "cell_type": "code",
   "execution_count": 53,
   "metadata": {
    "collapsed": false
   },
   "outputs": [
    {
     "data": {
      "text/plain": [
       "-0.0004112607715138772"
      ]
     },
     "execution_count": 53,
     "metadata": {},
     "output_type": "execute_result"
    }
   ],
   "source": [
    "(2)**.5 - ys2[-1]"
   ]
  },
  {
   "cell_type": "code",
   "execution_count": null,
   "metadata": {
    "collapsed": true
   },
   "outputs": [],
   "source": []
  }
 ],
 "metadata": {
  "kernelspec": {
   "display_name": "Python 3",
   "language": "python",
   "name": "python3"
  },
  "language_info": {
   "codemirror_mode": {
    "name": "ipython",
    "version": 3
   },
   "file_extension": ".py",
   "mimetype": "text/x-python",
   "name": "python",
   "nbconvert_exporter": "python",
   "pygments_lexer": "ipython3",
   "version": "3.5.2"
  }
 },
 "nbformat": 4,
 "nbformat_minor": 2
}
